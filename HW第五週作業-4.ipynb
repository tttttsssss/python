{
 "cells": [
  {
   "cell_type": "code",
   "execution_count": 1,
   "metadata": {},
   "outputs": [],
   "source": [
    "%matplotlib inline\n",
    "import numpy as np\n",
    "import matplotlib.pyplot as plt\n",
    "import pandas as pd"
   ]
  },
  {
   "cell_type": "code",
   "execution_count": 3,
   "metadata": {},
   "outputs": [],
   "source": [
    "from ipywidgets import interact\n",
    "from ipywidgets import interact_manual"
   ]
  },
  {
   "cell_type": "markdown",
   "metadata": {},
   "source": [
    "# 第四題：卡路里攝取量計算機"
   ]
  },
  {
   "cell_type": "code",
   "execution_count": 4,
   "metadata": {},
   "outputs": [
    {
     "name": "stdout",
     "output_type": "stream",
     "text": [
      "請輸入身高(cm):160\n",
      "請輸入體重(kg):50\n",
      "請輸入年齡(歲):20\n",
      "請輸入性別:女\n",
      "活動係數 1：基礎代謝量（躺著不動一整天）\n",
      "活動係數 1.2：辦公室坐整天型（幾乎很少或沒運動）\n",
      "活動係數 1.375：輕度活動型（每週運動1-2次）\n",
      "活動係數 1.55：中度運動型（每週運動3到5次）\n",
      "活動係數 1.725：重度運動型（每週運動6-7次）\n",
      "活動係數 1.9：體力勞動型（每天重度運動或重勞力工作者）\n",
      "請輸入活動係數:1.55\n",
      "您一天所需攝取的卡路里是: 2059.9500000000003 大卡\n"
     ]
    }
   ],
   "source": [
    "height=input(\"請輸入身高(cm):\")\n",
    "height=int(height)\n",
    "weight=input(\"請輸入體重(kg):\")\n",
    "weight=int(weight)\n",
    "age=input(\"請輸入年齡(歲):\")\n",
    "age=int(age)\n",
    "gender=input(\"請輸入性別:\")\n",
    "print(\"活動係數 1：基礎代謝量（躺著不動一整天）\\n\"\n",
    "      \"活動係數 1.2：辦公室坐整天型（幾乎很少或沒運動）\\n\"\n",
    "      \"活動係數 1.375：輕度活動型（每週運動1-2次）\\n\"\n",
    "      \"活動係數 1.55：中度運動型（每週運動3到5次）\\n\"\n",
    "      \"活動係數 1.725：重度運動型（每週運動6-7次）\\n\"\n",
    "      \"活動係數 1.9：體力勞動型（每天重度運動或重勞力工作者）\")\n",
    "activity=input(\"請輸入活動係數:\")\n",
    "activity=float(activity)\n",
    "\n",
    "Cal_women=(655+(9.6*weight)+(1.8*height)-(4.7*age))*activity\n",
    "Cal_men=(66+(13.7*weight)+(5*height)-(6.8*age))*activity\n",
    "\n",
    "if  (\"女\" in gender):\n",
    "    print(\"您一天所需攝取的卡路里是:\",Cal_women,\"大卡\")\n",
    "else:\n",
    "    print(\"您一天所需攝取的卡路里是:\",Cal_men,\"大卡\")"
   ]
  }
 ],
 "metadata": {
  "kernelspec": {
   "display_name": "Python 3",
   "language": "python",
   "name": "python3"
  },
  "language_info": {
   "codemirror_mode": {
    "name": "ipython",
    "version": 3
   },
   "file_extension": ".py",
   "mimetype": "text/x-python",
   "name": "python",
   "nbconvert_exporter": "python",
   "pygments_lexer": "ipython3",
   "version": "3.7.1"
  }
 },
 "nbformat": 4,
 "nbformat_minor": 2
}
