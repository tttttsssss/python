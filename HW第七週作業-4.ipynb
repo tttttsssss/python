{
 "cells": [
  {
   "cell_type": "code",
   "execution_count": 1,
   "metadata": {},
   "outputs": [],
   "source": [
    "%matplotlib inline\n",
    "\n",
    "import numpy as np\n",
    "import matplotlib.pyplot as plt\n",
    "import pandas as pd\n",
    "import sympy as sp"
   ]
  },
  {
   "cell_type": "markdown",
   "metadata": {},
   "source": [
    "# 作業四：亂數代入"
   ]
  },
  {
   "cell_type": "code",
   "execution_count": 2,
   "metadata": {},
   "outputs": [],
   "source": [
    "sp.init_printing()\n",
    "from sympy.abc import x\n",
    "from sympy.abc import y"
   ]
  },
  {
   "cell_type": "code",
   "execution_count": 18,
   "metadata": {},
   "outputs": [
    {
     "data": {
      "image/png": "[encoded data removed]",
      "text/latex": [
       "$$x \\log{\\left (3 x y + 2 x - 5 y^{2} \\right )} - x - \\frac{5 y^{2} \\log{\\left (x \\left(3 y + 2\\right) - 5 y^{2} \\right )}}{3 y + 2} - \\frac{1}{x^{2} \\left(54 y^{3} + 108 y^{2} + 72 y + 16\\right) + x \\left(- 180 y^{4} - 240 y^{3} - 80 y^{2}\\right) + 150 y^{5} + 100 y^{4}}$$"
      ],
      "text/plain": [
       "                                   2    ⎛                 2⎞                  \n",
       "     ⎛                 2⎞       5⋅y ⋅log⎝x⋅(3⋅y + 2) - 5⋅y ⎠                  \n",
       "x⋅log⎝3⋅x⋅y + 2⋅x - 5⋅y ⎠ - x - ──────────────────────────── - ───────────────\n",
       "                                          3⋅y + 2               2 ⎛    3      \n",
       "                                                               x ⋅⎝54⋅y  + 108\n",
       "\n",
       "                                                                  \n",
       "                         1                                        \n",
       "──────────────────────────────────────────────────────────────────\n",
       "  2            ⎞     ⎛       4        3       2⎞        5        4\n",
       "⋅y  + 72⋅y + 16⎠ + x⋅⎝- 180⋅y  - 240⋅y  - 80⋅y ⎠ + 150⋅y  + 100⋅y "
      ]
     },
     "execution_count": 18,
     "metadata": {},
     "output_type": "execute_result"
    }
   ],
   "source": [
    "g=3*x*y+2*x-5*y**2\n",
    "Q=sp.integrate(sp.log(g)+g**(-3),x)\n",
    "Q"
   ]
  },
  {
   "cell_type": "code",
   "execution_count": 25,
   "metadata": {},
   "outputs": [
    {
     "data": {
      "image/png": "[encoded data removed]",
      "text/latex": [
       "$$-10.6362908205856$$"
      ],
      "text/plain": [
       "-10.6362908205856"
      ]
     },
     "execution_count": 25,
     "metadata": {},
     "output_type": "execute_result"
    }
   ],
   "source": [
    "x1=np.random.randn()\n",
    "y1=np.random.randn()\n",
    "gg=g.subs(x,x1)\n",
    "gg.subs(y,y1)"
   ]
  }
 ],
 "metadata": {
  "kernelspec": {
   "display_name": "Python 3",
   "language": "python",
   "name": "python3"
  },
  "language_info": {
   "codemirror_mode": {
    "name": "ipython",
    "version": 3
   },
   "file_extension": ".py",
   "mimetype": "text/x-python",
   "name": "python",
   "nbconvert_exporter": "python",
   "pygments_lexer": "ipython3",
   "version": "3.7.1"
  }
 },
 "nbformat": 4,
 "nbformat_minor": 2
}
