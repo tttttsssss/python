{
 "cells": [
  {
   "cell_type": "markdown",
   "metadata": {},
   "source": [
    "## 作業二：猜數字"
   ]
  },
  {
   "cell_type": "code",
   "execution_count": 1,
   "metadata": {},
   "outputs": [
    {
     "name": "stdout",
     "output_type": "stream",
     "text": [
      "Populating the interactive namespace from numpy and matplotlib\n"
     ]
    }
   ],
   "source": [
    "%pylab inline\n",
    "\n",
    "import numpy as np\n",
    "import matplotlib.pyplot as plt"
   ]
  },
  {
   "cell_type": "code",
   "execution_count": 2,
   "metadata": {},
   "outputs": [
    {
     "name": "stdout",
     "output_type": "stream",
     "text": [
      "1到100猜個數字吧\n",
      ">> 99\n",
      "有點多喔!\n",
      ">> 53\n",
      "有點多喔!\n",
      ">> 22\n",
      "太客氣啦多點多點~\n",
      ">> 34\n",
      "太客氣啦多點多點~\n",
      ">> 35\n",
      "太客氣啦多點多點~\n",
      ">> 45\n",
      "唉呀很聰明嘛!\n"
     ]
    }
   ],
   "source": [
    "x=randint(0,101)\n",
    "print(\"1到100猜個數字吧\")\n",
    "while(x!=45):\n",
    "    x=int(input(\">> \"))\n",
    "    if(x>45):\n",
    "        print(\"有點多喔!\")\n",
    "    elif(x<45):\n",
    "        print(\"太客氣啦多點多點~\")\n",
    "    else:\n",
    "        print(\"唉呀很聰明嘛!\")"
   ]
  }
 ],
 "metadata": {
  "kernelspec": {
   "display_name": "Python 3",
   "language": "python",
   "name": "python3"
  },
  "language_info": {
   "codemirror_mode": {
    "name": "ipython",
    "version": 3
   },
   "file_extension": ".py",
   "mimetype": "text/x-python",
   "name": "python",
   "nbconvert_exporter": "python",
   "pygments_lexer": "ipython3",
   "version": "3.7.1"
  }
 },
 "nbformat": 4,
 "nbformat_minor": 2
}
