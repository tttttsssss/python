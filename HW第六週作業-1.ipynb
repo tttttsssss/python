{
 "cells": [
  {
   "cell_type": "code",
   "execution_count": 1,
   "metadata": {},
   "outputs": [],
   "source": [
    "%matplotlib inline\n",
    "import numpy as np\n",
    "import matplotlib.pyplot as plt\n",
    "import pandas as pd"
   ]
  },
  {
   "cell_type": "markdown",
   "metadata": {},
   "source": [
    "# 作業一：BIM衡量器(進階版)"
   ]
  },
  {
   "cell_type": "code",
   "execution_count": 3,
   "metadata": {},
   "outputs": [
    {
     "name": "stdout",
     "output_type": "stream",
     "text": [
      "請輸入體重90\n",
      "請輸入身高150\n",
      "你的身高90cm，體重150kg，BMI是40.0!!\n",
      "你的BMI值屬於：重度肥胖\n"
     ]
    }
   ],
   "source": [
    "weight=input(\"請輸入體重\")\n",
    "height=input(\"請輸入身高\")\n",
    "weights=float(weight)\n",
    "heights=float(height)/100\n",
    "BMI=weights/(heights**2)\n",
    "egg=\"你的身高{}cm，體重{}kg，BMI是{}!!\".format(weight,height,BMI)\n",
    "print(egg)\n",
    "\n",
    "i=float(BMI)\n",
    "while (i):\n",
    "    if i<18.5:\n",
    "        print(\"你的BMI值屬於：過輕\")\n",
    "    elif i>=18.5 and i<=24:\n",
    "        print(\"你的BMI值屬於：正常\")\n",
    "    elif i>24 and i<=27:\n",
    "        print(\"你的BMI值屬於：過重\")\n",
    "    elif i>27 and i<=30:\n",
    "        print(\"你的BMI值屬於：輕度肥胖\")\n",
    "    elif i>30 and i<=35:\n",
    "        print(\"你的BMI值屬於：中度肥胖\")\n",
    "    else:\n",
    "        print(\"你的BMI值屬於：重度肥胖\")\n",
    "    break"
   ]
  }
 ],
 "metadata": {
  "kernelspec": {
   "display_name": "Python 3",
   "language": "python",
   "name": "python3"
  },
  "language_info": {
   "codemirror_mode": {
    "name": "ipython",
    "version": 3
   },
   "file_extension": ".py",
   "mimetype": "text/x-python",
   "name": "python",
   "nbconvert_exporter": "python",
   "pygments_lexer": "ipython3",
   "version": "3.7.1"
  }
 },
 "nbformat": 4,
 "nbformat_minor": 2
}
