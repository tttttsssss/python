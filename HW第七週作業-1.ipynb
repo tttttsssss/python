{
 "cells": [
  {
   "cell_type": "code",
   "execution_count": 1,
   "metadata": {},
   "outputs": [],
   "source": [
    "%matplotlib inline\n",
    "\n",
    "import numpy as np\n",
    "import matplotlib.pyplot as plt\n",
    "import pandas as pd"
   ]
  },
  {
   "cell_type": "markdown",
   "metadata": {},
   "source": [
    "# 作業一：體脂率估算器"
   ]
  },
  {
   "cell_type": "code",
   "execution_count": 29,
   "metadata": {},
   "outputs": [
    {
     "name": "stdout",
     "output_type": "stream",
     "text": [
      "請輸入腰圍(公分): 100\n",
      "請輸入體重(公斤): 90\n",
      "男生請輸入1,女生請輸入0: 1\n",
      "你的體指率是:24.31%\n",
      "小建議:體脂正常喔!!\n"
     ]
    }
   ],
   "source": [
    "waist=input(\"請輸入腰圍(公分): \")\n",
    "weight=input(\"請輸入體重(公斤): \")\n",
    "gender=input(\"男生請輸入1,女生請輸入0: \")\n",
    "waists=int(waist)\n",
    "weights=int(weight)\n",
    "genders=int(gender)\n",
    "\n",
    "oil=(waists*0.74-weights*0.082-34.89-genders*9.85)/weights*100\n",
    "print(f\"你的體指率是:{oil:.2f}%\")\n",
    "\n",
    "oils=float(oil)\n",
    "if(\"0\" in gender and oils>30):\n",
    "    print(\"小建議:體脂太高了!!\")\n",
    "elif(\"1\" in gender and oils>25):\n",
    "    print(\"小建議:體脂太高了!!\")\n",
    "else:\n",
    "    print(\"小建議:體脂正常喔!!\")"
   ]
  },
  {
   "cell_type": "code",
   "execution_count": null,
   "metadata": {},
   "outputs": [],
   "source": []
  }
 ],
 "metadata": {
  "kernelspec": {
   "display_name": "Python 3",
   "language": "python",
   "name": "python3"
  },
  "language_info": {
   "codemirror_mode": {
    "name": "ipython",
    "version": 3
   },
   "file_extension": ".py",
   "mimetype": "text/x-python",
   "name": "python",
   "nbconvert_exporter": "python",
   "pygments_lexer": "ipython3",
   "version": "3.7.1"
  }
 },
 "nbformat": 4,
 "nbformat_minor": 2
}
