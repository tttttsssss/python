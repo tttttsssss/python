{
 "cells": [
  {
   "cell_type": "code",
   "execution_count": 2,
   "metadata": {},
   "outputs": [],
   "source": [
    "%matplotlib inline\n",
    "import numpy as np\n",
    "import matplotlib.pyplot as plt\n",
    "import pandas as pd"
   ]
  },
  {
   "cell_type": "markdown",
   "metadata": {},
   "source": [
    "# 作業三：BMI計算機"
   ]
  },
  {
   "cell_type": "code",
   "execution_count": 9,
   "metadata": {},
   "outputs": [
    {
     "name": "stdout",
     "output_type": "stream",
     "text": [
      "請輸入體重50\n",
      "請輸入身高160\n",
      "你的身高50cm，體重160kg，BMI是19.531249999999996!!\n"
     ]
    }
   ],
   "source": [
    "weight=input(\"請輸入體重\")\n",
    "height=input(\"請輸入身高\")\n",
    "weights=float(weight)\n",
    "heights=float(height)/100\n",
    "BMI=weights/(heights**2)\n",
    "egg=\"你的身高{}cm，體重{}kg，BMI是{}!!\".format(weight,height,BMI)\n",
    "print(egg)"
   ]
  }
 ],
 "metadata": {
  "kernelspec": {
   "display_name": "Python 3",
   "language": "python",
   "name": "python3"
  },
  "language_info": {
   "codemirror_mode": {
    "name": "ipython",
    "version": 3
   },
   "file_extension": ".py",
   "mimetype": "text/x-python",
   "name": "python",
   "nbconvert_exporter": "python",
   "pygments_lexer": "ipython3",
   "version": "3.7.1"
  }
 },
 "nbformat": 4,
 "nbformat_minor": 2
}
