{
 "cells": [
  {
   "cell_type": "markdown",
   "metadata": {},
   "source": [
    "## 作業一：我的理想員工"
   ]
  },
  {
   "cell_type": "code",
   "execution_count": 9,
   "metadata": {},
   "outputs": [],
   "source": [
    "%matplotlib inline\n",
    "\n",
    "import numpy as np\n",
    "import matplotlib.pyplot as plt\n",
    "import pandas as pd"
   ]
  },
  {
   "cell_type": "code",
   "execution_count": 10,
   "metadata": {},
   "outputs": [],
   "source": [
    "from numpy.random import randint "
   ]
  },
  {
   "cell_type": "code",
   "execution_count": 11,
   "metadata": {},
   "outputs": [],
   "source": [
    "words=words='''\n",
    "臨場反應好\n",
    "積極進取\n",
    "外語能力良好\n",
    "吃苦耐勞\n",
    "願打願挨\n",
    "肝很好\n",
    "對公司忠誠\n",
    "能舉一反三\n",
    "懂得察言觀色\n",
    "細心\n",
    "有耐心\n",
    "有企圖心\n",
    "富抗壓性\n",
    "能分清事情輕重緩急\n",
    "外貌中上\n",
    "有幽默感\n",
    "正能量\n",
    "願意分享付出\n",
    "懂得團隊合作\n",
    "'''"
   ]
  },
  {
   "cell_type": "code",
   "execution_count": 12,
   "metadata": {},
   "outputs": [],
   "source": [
    "phrase=words.split('\\n')"
   ]
  },
  {
   "cell_type": "code",
   "execution_count": 13,
   "metadata": {},
   "outputs": [],
   "source": [
    "from numpy.random import choice"
   ]
  },
  {
   "cell_type": "code",
   "execution_count": 14,
   "metadata": {},
   "outputs": [
    {
     "data": {
      "text/plain": [
       "array(['臨場反應好', '有幽默感', '正能量', '富抗壓性', '富抗壓性', '能分清事情輕重緩急', '懂得團隊合作',\n",
       "       '懂得團隊合作', '懂得察言觀色', ''], dtype='<U9')"
      ]
     },
     "execution_count": 14,
     "metadata": {},
     "output_type": "execute_result"
    }
   ],
   "source": [
    "choice(phrase,10)"
   ]
  },
  {
   "cell_type": "code",
   "execution_count": 15,
   "metadata": {},
   "outputs": [],
   "source": [
    "ll=randint(5,8)\n",
    "egg=choice(phrase,ll)"
   ]
  },
  {
   "cell_type": "code",
   "execution_count": 16,
   "metadata": {},
   "outputs": [
    {
     "data": {
      "text/plain": [
       "'正能量 富抗壓性 懂得團隊合作 對公司忠誠 外貌中上'"
      ]
     },
     "execution_count": 16,
     "metadata": {},
     "output_type": "execute_result"
    }
   ],
   "source": [
    "' '.join(egg)"
   ]
  },
  {
   "cell_type": "code",
   "execution_count": 31,
   "metadata": {},
   "outputs": [
    {
     "name": "stdout",
     "output_type": "stream",
     "text": [
      "我的理想員工\n",
      "有耐心 外語能力良好 正能量\n",
      "積極進取 有幽默感 有企圖心\n",
      "富抗壓性 懂得察言觀色 吃苦耐勞 \n"
     ]
    }
   ],
   "source": [
    "print(\"我的理想員工\")\n",
    "n=randint(3,6)\n",
    "for i in range(n):\n",
    "    k=randint(3,5)\n",
    "    egg=choice(phrase,k)\n",
    "    ham=' '.join(egg)\n",
    "    print(ham)"
   ]
  }
 ],
 "metadata": {
  "kernelspec": {
   "display_name": "Python 3",
   "language": "python",
   "name": "python3"
  },
  "language_info": {
   "codemirror_mode": {
    "name": "ipython",
    "version": 3
   },
   "file_extension": ".py",
   "mimetype": "text/x-python",
   "name": "python",
   "nbconvert_exporter": "python",
   "pygments_lexer": "ipython3",
   "version": "3.7.1"
  }
 },
 "nbformat": 4,
 "nbformat_minor": 2
}
