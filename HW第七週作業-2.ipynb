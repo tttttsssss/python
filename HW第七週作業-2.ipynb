{
 "cells": [
  {
   "cell_type": "code",
   "execution_count": 1,
   "metadata": {},
   "outputs": [],
   "source": [
    "%matplotlib inline\n",
    "\n",
    "import numpy as np\n",
    "import matplotlib.pyplot as plt\n",
    "import pandas as pd"
   ]
  },
  {
   "cell_type": "markdown",
   "metadata": {},
   "source": [
    "# 作業二：年齡篩選"
   ]
  },
  {
   "cell_type": "code",
   "execution_count": 23,
   "metadata": {},
   "outputs": [
    {
     "name": "stdout",
     "output_type": "stream",
     "text": [
      "請輸入年齡上限:90\n",
      "請輸入年齡下限:36\n",
      "以下為篩後年齡\n"
     ]
    },
    {
     "data": {
      "text/plain": [
       "array([59, 65, 60, 85, 66, 88])"
      ]
     },
     "execution_count": 23,
     "metadata": {},
     "output_type": "execute_result"
    }
   ],
   "source": [
    "ages=np.array([59,30,25,65,60,100,85,8,30,66,100,98,34,88,97])\n",
    "\n",
    "up=input(\"請輸入年齡上限:\")\n",
    "down=input(\"請輸入年齡下限:\")\n",
    "UP=float(up)\n",
    "DOWN=float(down)\n",
    "print(\"以下為篩後年齡\")\n",
    "age1=ages[ages<UP]\n",
    "age1[DOWN<age1]"
   ]
  },
  {
   "cell_type": "code",
   "execution_count": null,
   "metadata": {},
   "outputs": [],
   "source": []
  }
 ],
 "metadata": {
  "kernelspec": {
   "display_name": "Python 3",
   "language": "python",
   "name": "python3"
  },
  "language_info": {
   "codemirror_mode": {
    "name": "ipython",
    "version": 3
   },
   "file_extension": ".py",
   "mimetype": "text/x-python",
   "name": "python",
   "nbconvert_exporter": "python",
   "pygments_lexer": "ipython3",
   "version": "3.7.1"
  }
 },
 "nbformat": 4,
 "nbformat_minor": 2
}
